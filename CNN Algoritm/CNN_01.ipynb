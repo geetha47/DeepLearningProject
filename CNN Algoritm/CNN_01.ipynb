{
 "cells": [
  {
   "cell_type": "code",
   "execution_count": 1,
   "metadata": {},
   "outputs": [
    {
     "name": "stdout",
     "output_type": "stream",
     "text": [
      "WARNING:tensorflow:From c:\\Users\\geeth\\anaconda3\\lib\\site-packages\\keras\\src\\losses.py:2976: The name tf.losses.sparse_softmax_cross_entropy is deprecated. Please use tf.compat.v1.losses.sparse_softmax_cross_entropy instead.\n",
      "\n"
     ]
    }
   ],
   "source": [
    "import os\n",
    "import numpy as np\n",
    "import tensorflow as tf\n",
    "from tensorflow.keras.preprocessing.image import ImageDataGenerator\n",
    "from sklearn.model_selection import train_test_split\n"
   ]
  },
  {
   "cell_type": "code",
   "execution_count": 2,
   "metadata": {},
   "outputs": [],
   "source": [
    "IMAGE_SIZE = (128, 128)\n",
    "NUM_CLASSES = 2 "
   ]
  },
  {
   "cell_type": "code",
   "execution_count": 3,
   "metadata": {},
   "outputs": [],
   "source": [
    "DATA_DIR = r'C:\\Users\\geeth\\Downloads\\test_data\\YOLO-Object-Detection\\DL project\\Data'\n",
    "DEFECTIVE_DIR = os.path.join(DATA_DIR, 'Defective_cubes')\n",
    "QUALITY_DIR = os.path.join(DATA_DIR, 'Quality_cubes')"
   ]
  },
  {
   "cell_type": "code",
   "execution_count": 4,
   "metadata": {},
   "outputs": [],
   "source": [
    "datagen = tf.keras.preprocessing.image.ImageDataGenerator(\n",
    "    rescale=1./255,  # Normalize pixel values to [0, 1]\n",
    "    rotation_range=20,\n",
    "    width_shift_range=0.2,\n",
    "    height_shift_range=0.2,\n",
    "    horizontal_flip=True\n",
    ")"
   ]
  },
  {
   "cell_type": "code",
   "execution_count": 5,
   "metadata": {},
   "outputs": [],
   "source": [
    "def load_data(directory):\n",
    "    images = []\n",
    "    labels = []\n",
    "    label = 0 if directory == QUALITY_DIR else 1  # Assign label based on directory\n",
    "    for filename in os.listdir(directory):\n",
    "        if filename.lower().endswith('.jpg'):\n",
    "            img_path = os.path.join(directory, filename)\n",
    "            img = tf.keras.preprocessing.image.load_img(img_path, target_size=IMAGE_SIZE)\n",
    "            img_array = tf.keras.preprocessing.image.img_to_array(img)\n",
    "            images.append(img_array)\n",
    "            labels.append(label)\n",
    "    return np.array(images), np.array(labels)"
   ]
  },
  {
   "cell_type": "code",
   "execution_count": 6,
   "metadata": {},
   "outputs": [],
   "source": [
    "defective_images, defective_labels = load_data(DEFECTIVE_DIR)\n",
    "quality_images, quality_labels = load_data(QUALITY_DIR)"
   ]
  },
  {
   "cell_type": "code",
   "execution_count": 7,
   "metadata": {},
   "outputs": [],
   "source": [
    "cube_images = np.concatenate([defective_images, quality_images], axis=0)\n",
    "cube_labels = np.concatenate([defective_labels, quality_labels], axis=0)"
   ]
  },
  {
   "cell_type": "code",
   "execution_count": 8,
   "metadata": {},
   "outputs": [],
   "source": [
    "train_images,test_images,train_labels,test_labels=train_test_split(cube_images,cube_labels,test_size=0.2,random_state=42)"
   ]
  },
  {
   "cell_type": "code",
   "execution_count": 9,
   "metadata": {},
   "outputs": [],
   "source": [
    "train_images_normalized = train_images / 255.0\n",
    "test_images_normalized = test_images / 255.0"
   ]
  },
  {
   "cell_type": "code",
   "execution_count": 10,
   "metadata": {},
   "outputs": [],
   "source": [
    "def precision(y_true, y_pred):\n",
    "    true_positives = tf.keras.backend.sum(tf.keras.backend.round(tf.keras.backend.clip(y_true * y_pred, 0, 1)))\n",
    "    predicted_positives = tf.keras.backend.sum(tf.keras.backend.round(tf.keras.backend.clip(y_pred, 0, 1)))\n",
    "    precision = true_positives / (predicted_positives + tf.keras.backend.epsilon())\n",
    "    return precision\n",
    "\n",
    "def recall(y_true, y_pred):\n",
    "    true_positives = tf.keras.backend.sum(tf.keras.backend.round(tf.keras.backend.clip(y_true * y_pred, 0, 1)))\n",
    "    possible_positives = tf.keras.backend.sum(tf.keras.backend.round(tf.keras.backend.clip(y_true, 0, 1)))\n",
    "    recall = true_positives / (possible_positives + tf.keras.backend.epsilon())\n",
    "    return recall\n",
    "\n",
    "def f1_score(y_true, y_pred):\n",
    "    p = precision(y_true, y_pred)\n",
    "    r = recall(y_true, y_pred)\n",
    "    f1_score = 2 * (p * r) / (p + r + tf.keras.backend.epsilon())\n",
    "    return f1_score"
   ]
  },
  {
   "cell_type": "code",
   "execution_count": 11,
   "metadata": {},
   "outputs": [
    {
     "name": "stdout",
     "output_type": "stream",
     "text": [
      "WARNING:tensorflow:From c:\\Users\\geeth\\anaconda3\\lib\\site-packages\\keras\\src\\backend.py:873: The name tf.get_default_graph is deprecated. Please use tf.compat.v1.get_default_graph instead.\n",
      "\n",
      "WARNING:tensorflow:From c:\\Users\\geeth\\anaconda3\\lib\\site-packages\\keras\\src\\layers\\pooling\\max_pooling2d.py:161: The name tf.nn.max_pool is deprecated. Please use tf.nn.max_pool2d instead.\n",
      "\n"
     ]
    }
   ],
   "source": [
    "# Create CNN model\n",
    "model = tf.keras.Sequential([\n",
    "    tf.keras.layers.Conv2D(32, (3, 3), activation='relu', input_shape=(IMAGE_SIZE[0], IMAGE_SIZE[1], 3)),\n",
    "    tf.keras.layers.MaxPooling2D((2, 2)),\n",
    "    tf.keras.layers.Conv2D(64, (3, 3), activation='relu'),\n",
    "    tf.keras.layers.MaxPooling2D((2, 2)),\n",
    "      tf.keras.layers.Conv2D(128, (3, 3), activation='relu'),\n",
    "    tf.keras.layers.MaxPooling2D((2, 2)),\n",
    "    tf.keras.layers.Flatten(),\n",
    "    tf.keras.layers.Dense(256, activation='relu'),             \n",
    "    tf.keras.layers.Dropout(0.5),\n",
    "    tf.keras.layers.Dense(NUM_CLASSES, activation='sigmoid')  # Binary classification\n",
    "])"
   ]
  },
  {
   "cell_type": "code",
   "execution_count": 12,
   "metadata": {},
   "outputs": [
    {
     "name": "stdout",
     "output_type": "stream",
     "text": [
      "WARNING:tensorflow:From c:\\Users\\geeth\\anaconda3\\lib\\site-packages\\keras\\src\\optimizers\\__init__.py:309: The name tf.train.Optimizer is deprecated. Please use tf.compat.v1.train.Optimizer instead.\n",
      "\n"
     ]
    }
   ],
   "source": [
    "model.compile(optimizer='adam',\n",
    "              loss='sparse_categorical_crossentropy',\n",
    "              metrics=['accuracy'])"
   ]
  },
  {
   "cell_type": "code",
   "execution_count": 13,
   "metadata": {},
   "outputs": [
    {
     "name": "stdout",
     "output_type": "stream",
     "text": [
      "Epoch 1/10\n",
      "WARNING:tensorflow:From c:\\Users\\geeth\\anaconda3\\lib\\site-packages\\keras\\src\\utils\\tf_utils.py:492: The name tf.ragged.RaggedTensorValue is deprecated. Please use tf.compat.v1.ragged.RaggedTensorValue instead.\n",
      "\n",
      "WARNING:tensorflow:From c:\\Users\\geeth\\anaconda3\\lib\\site-packages\\keras\\src\\engine\\base_layer_utils.py:384: The name tf.executing_eagerly_outside_functions is deprecated. Please use tf.compat.v1.executing_eagerly_outside_functions instead.\n",
      "\n",
      "112/112 [==============================] - 59s 449ms/step - loss: 0.6924 - accuracy: 0.5292 - precision: 0.4690 - recall: 1.0375 - f1_score: 0.6385 - val_loss: 2.0908 - val_accuracy: 0.5106 - val_precision: 0.4894 - val_recall: 1.0000 - val_f1_score: 0.6529\n",
      "Epoch 2/10\n",
      "112/112 [==============================] - 50s 442ms/step - loss: 0.6916 - accuracy: 0.5300 - precision: 0.4697 - recall: 1.0000 - f1_score: 0.6336 - val_loss: 2.2331 - val_accuracy: 0.5106 - val_precision: 0.4894 - val_recall: 1.0000 - val_f1_score: 0.6529\n",
      "Epoch 3/10\n",
      "112/112 [==============================] - 50s 446ms/step - loss: 0.6913 - accuracy: 0.5300 - precision: 0.4702 - recall: 1.0000 - f1_score: 0.6343 - val_loss: 2.1290 - val_accuracy: 0.5106 - val_precision: 0.4894 - val_recall: 1.0000 - val_f1_score: 0.6529\n",
      "Epoch 4/10\n",
      "112/112 [==============================] - 50s 446ms/step - loss: 0.6916 - accuracy: 0.5300 - precision: 0.4701 - recall: 1.0000 - f1_score: 0.6354 - val_loss: 2.0588 - val_accuracy: 0.5106 - val_precision: 0.4894 - val_recall: 1.0000 - val_f1_score: 0.6529\n",
      "Epoch 5/10\n",
      "112/112 [==============================] - 54s 481ms/step - loss: 0.6915 - accuracy: 0.5300 - precision: 0.4697 - recall: 1.0000 - f1_score: 0.6339 - val_loss: 2.0340 - val_accuracy: 0.5106 - val_precision: 0.4894 - val_recall: 1.0000 - val_f1_score: 0.6529\n",
      "Epoch 6/10\n",
      "112/112 [==============================] - 54s 482ms/step - loss: 0.6915 - accuracy: 0.5300 - precision: 0.4700 - recall: 1.0000 - f1_score: 0.6358 - val_loss: 1.9360 - val_accuracy: 0.5106 - val_precision: 0.4894 - val_recall: 1.0000 - val_f1_score: 0.6529\n",
      "Epoch 7/10\n",
      "112/112 [==============================] - 59s 527ms/step - loss: 0.6915 - accuracy: 0.5300 - precision: 0.4699 - recall: 1.0000 - f1_score: 0.6347 - val_loss: 1.9459 - val_accuracy: 0.5106 - val_precision: 0.4894 - val_recall: 1.0000 - val_f1_score: 0.6529\n",
      "Epoch 8/10\n",
      "112/112 [==============================] - 59s 523ms/step - loss: 0.6917 - accuracy: 0.5300 - precision: 0.4697 - recall: 1.0000 - f1_score: 0.6344 - val_loss: 2.0037 - val_accuracy: 0.5106 - val_precision: 0.4894 - val_recall: 1.0000 - val_f1_score: 0.6529\n",
      "Epoch 9/10\n",
      "112/112 [==============================] - 55s 490ms/step - loss: 0.6915 - accuracy: 0.5300 - precision: 0.4696 - recall: 1.0000 - f1_score: 0.6339 - val_loss: 1.9048 - val_accuracy: 0.5106 - val_precision: 0.4894 - val_recall: 1.0000 - val_f1_score: 0.6529\n",
      "Epoch 10/10\n",
      "112/112 [==============================] - 51s 451ms/step - loss: 0.6915 - accuracy: 0.5300 - precision: 0.4700 - recall: 1.0000 - f1_score: 0.6350 - val_loss: 1.7904 - val_accuracy: 0.5106 - val_precision: 0.4894 - val_recall: 1.0000 - val_f1_score: 0.6529\n"
     ]
    },
    {
     "data": {
      "text/plain": [
       "<keras.src.callbacks.History at 0x26df3572c80>"
      ]
     },
     "execution_count": 13,
     "metadata": {},
     "output_type": "execute_result"
    }
   ],
   "source": [
    "model.fit(datagen.flow(train_images_normalized, train_labels,batch_size=32),  # Pass training data as a tuple\n",
    "          epochs=10,\n",
    "          validation_data=(test_images_normalized, test_labels))"
   ]
  },
  {
   "cell_type": "code",
   "execution_count": 14,
   "metadata": {},
   "outputs": [],
   "source": [
    "test_loss, test_accuracy, test_precision, test_recall, test_f1_score = model.evaluate(test_images_normalized, test_labels, verbose=0)"
   ]
  },
  {
   "cell_type": "code",
   "execution_count": 15,
   "metadata": {},
   "outputs": [
    {
     "data": {
      "image/png": "[encoded data removed]",
      "text/plain": [
       "<Figure size 1000x600 with 1 Axes>"
      ]
     },
     "metadata": {},
     "output_type": "display_data"
    }
   ],
   "source": [
    "import matplotlib.pyplot as plt\n",
    "\n",
    "# Define metric names and values\n",
    "metrics_names = ['Loss', 'Accuracy', 'Precision', 'Recall', 'F1 Score']\n",
    "metrics_values = [test_loss, test_accuracy, test_precision, test_recall, test_f1_score]\n",
    "\n",
    "# Plot metrics\n",
    "plt.figure(figsize=(10, 6))\n",
    "plt.bar(metrics_names, metrics_values, color=['Gray', 'green', 'red', 'orange', 'purple'])\n",
    "plt.title('Test Metrics')\n",
    "plt.xlabel('Metrics')\n",
    "plt.ylabel('Values')\n",
    "plt.ylim(0, 1)  # Set y-axis limit to be between 0 and 1\n",
    "plt.grid(axis='y', linestyle='--', alpha=0.7)\n",
    "plt.show()"
   ]
  },
  {
   "cell_type": "code",
   "execution_count": 16,
   "metadata": {},
   "outputs": [
    {
     "data": {
      "text/plain": [
       "(1.7904173135757446,\n",
       " 0.5106145143508911,\n",
       " 0.48941531777381897,\n",
       " 1.0,\n",
       " 0.6528525948524475)"
      ]
     },
     "execution_count": 16,
     "metadata": {},
     "output_type": "execute_result"
    }
   ],
   "source": [
    "test_loss, test_accuracy, test_precision, test_recall, test_f1_score "
   ]
  }
 ],
 "metadata": {
  "kernelspec": {
   "display_name": "base",
   "language": "python",
   "name": "python3"
  },
  "language_info": {
   "codemirror_mode": {
    "name": "ipython",
    "version": 3
   },
   "file_extension": ".py",
   "mimetype": "text/x-python",
   "name": "python",
   "nbconvert_exporter": "python",
   "pygments_lexer": "ipython3",
   "version": "3.10.9"
  }
 },
 "nbformat": 4,
 "nbformat_minor": 2
}
